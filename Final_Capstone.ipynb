{
  "nbformat": 4,
  "nbformat_minor": 0,
  "metadata": {
    "colab": {
      "name": "Final Capstone",
      "provenance": [],
      "collapsed_sections": [],
      "authorship_tag": "ABX9TyOAwqtUP2ZmAGBd7i94VErr",
      "include_colab_link": true
    },
    "kernelspec": {
      "name": "python3",
      "display_name": "Python 3"
    },
    "accelerator": "GPU"
  },
  "cells": [
    {
      "cell_type": "markdown",
      "metadata": {
        "id": "view-in-github",
        "colab_type": "text"
      },
      "source": [
        "<a href=\"https://colab.research.google.com/github/gndumbri/FindMyPhoto/blob/master/Final_Capstone.ipynb\" target=\"_parent\"><img src=\"https://colab.research.google.com/assets/colab-badge.svg\" alt=\"Open In Colab\"/></a>"
      ]
    },
    {
      "cell_type": "markdown",
      "metadata": {
        "id": "l9xaezeB7C6h",
        "colab_type": "text"
      },
      "source": [
        "https://venkateshnarayanan.wordpress.com/2019/08/26/simple-web-app-with-flask-in-windows/"
      ]
    },
    {
      "cell_type": "markdown",
      "metadata": {
        "colab_type": "text",
        "id": "QSaTbFvmxMl4"
      },
      "source": [
        "Sources\n",
        "\n",
        "1. https://mc.ai/tutorial-image-classification-with-keras-flow_from_directory-and-generators/\n",
        "\n",
        "2. https://medium.com/@vijayabhaskar96/tutorial-image-classification-with-keras-flow-from-directory-and-generators-95f75ebe5720\n",
        "\n",
        "3. https://towardsdatascience.com/transfer-learning-using-mobilenet-and-keras-c75daf7ff299"
      ]
    },
    {
      "cell_type": "code",
      "metadata": {
        "id": "_KubTi7LoyJt",
        "colab_type": "code",
        "outputId": "cef7d76c-258d-40fd-fe59-c5839ce3012d",
        "colab": {
          "base_uri": "https://localhost:8080/",
          "height": 34
        }
      },
      "source": [
        "from google.colab import drive\n",
        "drive.mount('/content/drive') # comment one more change\n",
        "# different line"
      ],
      "execution_count": 39,
      "outputs": [
        {
          "output_type": "stream",
          "text": [
            "Drive already mounted at /content/drive; to attempt to forcibly remount, call drive.mount(\"/content/drive\", force_remount=True).\n"
          ],
          "name": "stdout"
        }
      ]
    },
    {
      "cell_type": "code",
      "metadata": {
        "id": "VqY4Ol78iO0-",
        "colab_type": "code",
        "colab": {
          "base_uri": "https://localhost:8080/",
          "height": 34
        },
        "outputId": "dcc3e57e-288d-4df1-d4df-4bbdd9d23be7"
      },
      "source": [
        "%tensorflow_version 2.x\n",
        "import tensorflow as tf\n",
        "\n",
        "device_name = tf.test.gpu_device_name()\n",
        "if device_name != '/device:GPU:0':\n",
        "  raise SystemError('GPU device not found')\n",
        "print('Found GPU at: {}'.format(device_name))"
      ],
      "execution_count": 3,
      "outputs": [
        {
          "output_type": "stream",
          "text": [
            "Found GPU at: /device:GPU:0\n"
          ],
          "name": "stdout"
        }
      ]
    },
    {
      "cell_type": "code",
      "metadata": {
        "id": "szCvgyJAxVXX",
        "colab_type": "code",
        "colab": {}
      },
      "source": [
        "import numpy as np\n",
        "import pandas as pd\n",
        "import matplotlib.pyplot as plt\n",
        "%matplotlib inline\n",
        "import os\n",
        "from tensorflow.keras.models import Sequential\n",
        "from tensorflow.keras.layers import Dense, Flatten, MaxPooling2D, Conv2D, Dropout\n",
        "from tensorflow.keras.layers import GlobalAveragePooling2D, InputLayer, Input\n",
        "from tensorflow.keras.preprocessing.image import ImageDataGenerator\n",
        "from tensorflow.keras.applications import imagenet_utils\n",
        "from sklearn.metrics import classification_report, confusion_matrix\n",
        "import itertools\n",
        "import warnings\n",
        "warnings.filterwarnings('ignore')"
      ],
      "execution_count": 0,
      "outputs": []
    },
    {
      "cell_type": "markdown",
      "metadata": {
        "id": "akWRvxqjHT_l",
        "colab_type": "text"
      },
      "source": [
        "Variables to use for Data Processing and Modeling"
      ]
    },
    {
      "cell_type": "code",
      "metadata": {
        "id": "fxJ7-NOJbL5B",
        "colab_type": "code",
        "colab": {}
      },
      "source": [
        "preddir = '/content/drive/My Drive/pred'\n",
        "traindir = '/content/drive/My Drive/Findmyphoto/train'\n",
        "valdir = '/content/drive/My Drive/Findmyphoto/val'\n",
        "\n",
        "IMG_SIZE = 160\n",
        "batch_size = 32\n",
        "epochs = 30"
      ],
      "execution_count": 0,
      "outputs": []
    },
    {
      "cell_type": "markdown",
      "metadata": {
        "id": "CyfvvPO41bjS",
        "colab_type": "text"
      },
      "source": [
        "Functions"
      ]
    },
    {
      "cell_type": "code",
      "metadata": {
        "id": "4s8WfiZL7uga",
        "colab_type": "code",
        "colab": {}
      },
      "source": [
        "def show_predictions(model, preddir, IMG_SIZE, training_data, val):\n",
        "    pred = ImageDataGenerator(rescale=1./255)\n",
        "    pred = pred.flow_from_directory(\n",
        "        preddir,\n",
        "        target_size=(IMG_SIZE, IMG_SIZE),\n",
        "        batch_size=len(val.classes),\n",
        "        shuffle=False\n",
        "        )\n",
        "    predictions = model.predict(pred, steps=1)\n",
        "    preds = np.argmax(predictions,axis=1) # code from source 1\n",
        "    labels = (training_data.class_indices) # code from source 1\n",
        "    labels = dict((v,k) for k,v in labels.items()) # code from source 1\n",
        "    return [labels[k] for k in preds]"
      ],
      "execution_count": 0,
      "outputs": []
    },
    {
      "cell_type": "code",
      "metadata": {
        "id": "-wGUD3GBxk11",
        "colab_type": "code",
        "colab": {}
      },
      "source": [
        "def run_model(model, train_data, val_data, batch_size, epochs):\n",
        "    history = model.fit(\n",
        "        train_data,\n",
        "        steps_per_epoch=309//batch_size,\n",
        "        epochs=epochs,\n",
        "        validation_data=val_data, \n",
        "        validation_steps=118//batch_size\n",
        "        )\n",
        "    return history"
      ],
      "execution_count": 0,
      "outputs": []
    },
    {
      "cell_type": "code",
      "metadata": {
        "id": "MaZokfbMy-eP",
        "colab_type": "code",
        "colab": {}
      },
      "source": [
        "def plot_confusion_matrix(IMG_SIZE, val_gen, valdir, model, prediction_data_gen):\n",
        "    plt.rcParams.update({'font.size': 11})\n",
        "    \n",
        "    predictions = model.predict(prediction_data_gen, steps=1)\n",
        "    preds = np.argmax(predictions,axis=1)\n",
        "    predictions = tf.nn.softmax(predictions, axis=1)\n",
        "    \n",
        "    labels = (val_gen.classes)\n",
        "    \n",
        "    plot_labels = np.array([i for i in (val_gen.class_indices).keys()])\n",
        "    \n",
        "    cm = tf.math.confusion_matrix(labels, preds)\n",
        "\n",
        "    ratio_correct = np.trace(cm)/np.sum(cm)\n",
        "    ratio_incorrect = 1 - ratio_correct\n",
        "\n",
        "    plt.figure(figsize=(10,8))\n",
        "    plt.imshow(cm, interpolation='nearest', cmap='Reds')\n",
        "    plt.colorbar()\n",
        "\n",
        "    if labels is not None:\n",
        "        ticks = np.arange(len(plot_labels))\n",
        "        plt.xticks(ticks, plot_labels, rotation=90)\n",
        "        plt.yticks(ticks, plot_labels)\n",
        "\n",
        "    threshold = 4\n",
        "    for i, j in itertools.product(\n",
        "        range(cm.shape[0]), \n",
        "        range(cm.shape[1])):\n",
        "        plt.text(j, i, \"{:,}\".format(cm[i,j]),\n",
        "                 horizontalalignment='center',\n",
        "                 color='white' if cm[i,j] > threshold else 'black')\n",
        "    \n",
        "    plt.tight_layout()\n",
        "    plt.ylabel('Predicted')\n",
        "    plt.xlabel('True Label\\naccuracy={:0.4f}; ratio_incorrect={:0.4f}'.format(\n",
        "        ratio_correct, ratio_incorrect\n",
        "    ))"
      ],
      "execution_count": 0,
      "outputs": []
    },
    {
      "cell_type": "code",
      "metadata": {
        "id": "fLttGg5TtdIx",
        "colab_type": "code",
        "colab": {}
      },
      "source": [
        "def report(IMG_SIZE, val_gen, valdir, model, prediction_data_gen):\n",
        "    predictions = model.predict(prediction_data_gen, steps=1)\n",
        "    preds = np.argmax(predictions,axis=1)\n",
        "    labels = (val_gen.classes)\n",
        "    return pd.DataFrame.from_dict(\n",
        "        classification_report(labels, preds, output_dict=True))\n"
      ],
      "execution_count": 0,
      "outputs": []
    },
    {
      "cell_type": "code",
      "metadata": {
        "id": "5_CNT055JhIu",
        "colab_type": "code",
        "colab": {}
      },
      "source": [
        "def find_my_photo(predictions, df):\n",
        "    answer = df.loc[df['name'] == predictions[0], 'coord']\n",
        "    return ''.join(list(answer))"
      ],
      "execution_count": 0,
      "outputs": []
    },
    {
      "cell_type": "markdown",
      "metadata": {
        "id": "2piZodi2HZUx",
        "colab_type": "text"
      },
      "source": [
        "Data Augmentation"
      ]
    },
    {
      "cell_type": "code",
      "metadata": {
        "id": "9-5WVBNIbVKS",
        "colab_type": "code",
        "colab": {}
      },
      "source": [
        "image_gen_train = ImageDataGenerator(\n",
        "    rescale=1./255,\n",
        "    rotation_range=45,\n",
        "    horizontal_flip=True,\n",
        "    zoom_range=0.5,\n",
        "    shear_range=0.3,\n",
        "    height_shift_range=.15,\n",
        "    width_shift_range=.15\n",
        ")\n",
        "\n",
        "val_gen = ImageDataGenerator(rescale=1./255)\n",
        "\n",
        "pred_gen = ImageDataGenerator(rescale=1./255)"
      ],
      "execution_count": 0,
      "outputs": []
    },
    {
      "cell_type": "markdown",
      "metadata": {
        "id": "BKpXg6oeHdUw",
        "colab_type": "text"
      },
      "source": [
        "Create Data Generators"
      ]
    },
    {
      "cell_type": "code",
      "metadata": {
        "id": "vPbcNcx0viw0",
        "colab_type": "code",
        "outputId": "b468cb81-d9c3-4831-a500-9d08ac75e99f",
        "colab": {
          "base_uri": "https://localhost:8080/",
          "height": 70
        }
      },
      "source": [
        "train = image_gen_train.flow_from_directory(\n",
        "    traindir,\n",
        "    target_size=(IMG_SIZE, IMG_SIZE), \n",
        "    batch_size=batch_size\n",
        "    )\n",
        "\n",
        "val = val_gen.flow_from_directory(\n",
        "    valdir, \n",
        "    target_size=(IMG_SIZE, IMG_SIZE),\n",
        "    batch_size=batch_size\n",
        "    )\n",
        "\n",
        "# to be used later for predictions\n",
        "prediction_data_gen = pred_gen.flow_from_directory(\n",
        "    valdir,\n",
        "    target_size=(IMG_SIZE, IMG_SIZE),\n",
        "    batch_size=len(val.classes),\n",
        "    shuffle=False\n",
        "    )"
      ],
      "execution_count": 12,
      "outputs": [
        {
          "output_type": "stream",
          "text": [
            "Found 309 images belonging to 33 classes.\n",
            "Found 116 images belonging to 33 classes.\n",
            "Found 116 images belonging to 33 classes.\n"
          ],
          "name": "stdout"
        }
      ]
    },
    {
      "cell_type": "markdown",
      "metadata": {
        "id": "WFTtFBOtGgSh",
        "colab_type": "text"
      },
      "source": [
        "Building my own model"
      ]
    },
    {
      "cell_type": "code",
      "metadata": {
        "id": "n534u9hTYP8B",
        "colab_type": "code",
        "colab": {}
      },
      "source": [
        "model_a = Sequential([\n",
        "        Conv2D(32, (5,5), padding='same', activation='relu'),\n",
        "        MaxPooling2D(2,2),\n",
        "        Dropout(0.3),\n",
        "        Conv2D(64, (3,3), padding='same', activation='relu'),\n",
        "        MaxPooling2D(2,2),\n",
        "        Dropout(0.2),\n",
        "        Conv2D(64, (3,3), padding='same', activation='relu'),\n",
        "        MaxPooling2D(2,2),\n",
        "        Dropout(0.2),\n",
        "        Conv2D(128, (3,3), padding='same', activation='relu'),\n",
        "        MaxPooling2D(2,2),\n",
        "        Flatten(),\n",
        "        Dense(512, activation='relu'),\n",
        "        Dense(33)\n",
        "        \n",
        "])\n",
        "\n",
        "model_a.compile(\n",
        "    optimizer='adam',\n",
        "    loss=tf.keras.losses.CategoricalCrossentropy(from_logits=True),\n",
        "    metrics=['accuracy']\n",
        ")"
      ],
      "execution_count": 0,
      "outputs": []
    },
    {
      "cell_type": "code",
      "metadata": {
        "id": "3yQRIUBx7w22",
        "colab_type": "code",
        "outputId": "8ff86ad3-637a-43ac-f2c4-ab3fa0d975fe",
        "colab": {
          "base_uri": "https://localhost:8080/",
          "height": 1000
        }
      },
      "source": [
        "run_model(model_a, train, val, batch_size, epochs)"
      ],
      "execution_count": 14,
      "outputs": [
        {
          "output_type": "stream",
          "text": [
            "Epoch 1/30\n",
            "9/9 [==============================] - 302s 34s/step - loss: 3.6232 - accuracy: 0.0278 - val_loss: 3.4821 - val_accuracy: 0.0729\n",
            "Epoch 2/30\n",
            "9/9 [==============================] - 7s 759ms/step - loss: 3.4572 - accuracy: 0.0397 - val_loss: 3.4328 - val_accuracy: 0.0833\n",
            "Epoch 3/30\n",
            "9/9 [==============================] - 7s 755ms/step - loss: 3.4816 - accuracy: 0.0505 - val_loss: 3.4660 - val_accuracy: 0.0833\n",
            "Epoch 4/30\n",
            "9/9 [==============================] - 6s 707ms/step - loss: 3.4300 - accuracy: 0.0397 - val_loss: 3.4393 - val_accuracy: 0.1146\n",
            "Epoch 5/30\n",
            "9/9 [==============================] - 7s 780ms/step - loss: 3.4457 - accuracy: 0.0686 - val_loss: 3.4480 - val_accuracy: 0.1562\n",
            "Epoch 6/30\n",
            "9/9 [==============================] - 7s 769ms/step - loss: 3.4185 - accuracy: 0.0686 - val_loss: 3.3420 - val_accuracy: 0.1875\n",
            "Epoch 7/30\n",
            "9/9 [==============================] - 7s 732ms/step - loss: 3.3006 - accuracy: 0.1155 - val_loss: 3.2308 - val_accuracy: 0.1042\n",
            "Epoch 8/30\n",
            "9/9 [==============================] - 7s 751ms/step - loss: 3.1939 - accuracy: 0.1408 - val_loss: 3.1775 - val_accuracy: 0.1562\n",
            "Epoch 9/30\n",
            "9/9 [==============================] - 6s 710ms/step - loss: 2.9734 - accuracy: 0.1083 - val_loss: 2.9523 - val_accuracy: 0.1875\n",
            "Epoch 10/30\n",
            "9/9 [==============================] - 7s 773ms/step - loss: 2.9888 - accuracy: 0.1408 - val_loss: 2.9068 - val_accuracy: 0.1771\n",
            "Epoch 11/30\n",
            "9/9 [==============================] - 7s 805ms/step - loss: 2.8238 - accuracy: 0.1875 - val_loss: 2.9695 - val_accuracy: 0.1667\n",
            "Epoch 12/30\n",
            "9/9 [==============================] - 7s 785ms/step - loss: 2.8020 - accuracy: 0.1841 - val_loss: 2.7936 - val_accuracy: 0.2083\n",
            "Epoch 13/30\n",
            "9/9 [==============================] - 6s 715ms/step - loss: 2.7393 - accuracy: 0.2130 - val_loss: 2.5401 - val_accuracy: 0.3438\n",
            "Epoch 14/30\n",
            "9/9 [==============================] - 7s 801ms/step - loss: 2.5461 - accuracy: 0.2888 - val_loss: 2.6508 - val_accuracy: 0.2292\n",
            "Epoch 15/30\n",
            "9/9 [==============================] - 6s 719ms/step - loss: 2.5318 - accuracy: 0.2635 - val_loss: 2.5547 - val_accuracy: 0.3229\n",
            "Epoch 16/30\n",
            "9/9 [==============================] - 7s 726ms/step - loss: 2.1217 - accuracy: 0.3357 - val_loss: 2.1178 - val_accuracy: 0.3750\n",
            "Epoch 17/30\n",
            "9/9 [==============================] - 7s 753ms/step - loss: 2.1699 - accuracy: 0.3718 - val_loss: 2.2831 - val_accuracy: 0.3333\n",
            "Epoch 18/30\n",
            "9/9 [==============================] - 7s 811ms/step - loss: 2.0024 - accuracy: 0.4440 - val_loss: 2.2462 - val_accuracy: 0.4062\n",
            "Epoch 19/30\n",
            "9/9 [==============================] - 6s 685ms/step - loss: 1.9299 - accuracy: 0.4296 - val_loss: 2.3579 - val_accuracy: 0.3750\n",
            "Epoch 20/30\n",
            "9/9 [==============================] - 7s 748ms/step - loss: 1.8787 - accuracy: 0.4368 - val_loss: 2.4705 - val_accuracy: 0.3542\n",
            "Epoch 21/30\n",
            "9/9 [==============================] - 7s 768ms/step - loss: 1.8486 - accuracy: 0.4306 - val_loss: 2.1980 - val_accuracy: 0.4583\n",
            "Epoch 22/30\n",
            "9/9 [==============================] - 7s 773ms/step - loss: 1.7625 - accuracy: 0.5090 - val_loss: 2.5498 - val_accuracy: 0.3229\n",
            "Epoch 23/30\n",
            "9/9 [==============================] - 6s 694ms/step - loss: 1.5231 - accuracy: 0.4910 - val_loss: 1.9558 - val_accuracy: 0.5104\n",
            "Epoch 24/30\n",
            "9/9 [==============================] - 7s 790ms/step - loss: 1.8501 - accuracy: 0.4224 - val_loss: 1.7648 - val_accuracy: 0.5312\n",
            "Epoch 25/30\n",
            "9/9 [==============================] - 6s 706ms/step - loss: 1.6552 - accuracy: 0.5162 - val_loss: 2.1309 - val_accuracy: 0.4375\n",
            "Epoch 26/30\n",
            "9/9 [==============================] - 7s 793ms/step - loss: 1.6222 - accuracy: 0.4946 - val_loss: 2.2233 - val_accuracy: 0.4167\n",
            "Epoch 27/30\n",
            "9/9 [==============================] - 7s 726ms/step - loss: 1.3881 - accuracy: 0.5993 - val_loss: 2.1650 - val_accuracy: 0.4688\n",
            "Epoch 28/30\n",
            "9/9 [==============================] - 7s 766ms/step - loss: 1.5420 - accuracy: 0.5054 - val_loss: 1.8387 - val_accuracy: 0.4688\n",
            "Epoch 29/30\n",
            "9/9 [==============================] - 7s 732ms/step - loss: 1.2662 - accuracy: 0.6137 - val_loss: 1.9140 - val_accuracy: 0.5833\n",
            "Epoch 30/30\n",
            "9/9 [==============================] - 7s 749ms/step - loss: 1.3149 - accuracy: 0.5993 - val_loss: 2.0106 - val_accuracy: 0.4271\n"
          ],
          "name": "stdout"
        },
        {
          "output_type": "execute_result",
          "data": {
            "text/plain": [
              "<tensorflow.python.keras.callbacks.History at 0x7f0a6002c588>"
            ]
          },
          "metadata": {
            "tags": []
          },
          "execution_count": 14
        }
      ]
    },
    {
      "cell_type": "markdown",
      "metadata": {
        "id": "18wBCNaegaga",
        "colab_type": "text"
      },
      "source": [
        "Transfer Learning with MobileNet"
      ]
    },
    {
      "cell_type": "code",
      "metadata": {
        "id": "5FM8U5LJzN1F",
        "colab_type": "code",
        "outputId": "bf7260be-58d7-461f-d8f3-02f9580dcc15",
        "colab": {
          "base_uri": "https://localhost:8080/",
          "height": 52
        }
      },
      "source": [
        "mobilenet_model = tf.keras.applications.MobileNetV2(\n",
        "    input_shape=(IMG_SIZE, IMG_SIZE, 3),\n",
        "    include_top=False,\n",
        "    weights='imagenet')\n",
        "\n",
        "mobilenet_model.trainable = False"
      ],
      "execution_count": 15,
      "outputs": [
        {
          "output_type": "stream",
          "text": [
            "Downloading data from https://storage.googleapis.com/tensorflow/keras-applications/mobilenet_v2/mobilenet_v2_weights_tf_dim_ordering_tf_kernels_1.0_160_no_top.h5\n",
            "9412608/9406464 [==============================] - 0s 0us/step\n"
          ],
          "name": "stdout"
        }
      ]
    },
    {
      "cell_type": "code",
      "metadata": {
        "id": "DIXo-qm1zgRu",
        "colab_type": "code",
        "colab": {}
      },
      "source": [
        "mobile_model = tf.keras.Sequential([\n",
        "        mobilenet_model,\n",
        "        GlobalAveragePooling2D(),\n",
        "        Dense(256, activation='relu'),\n",
        "        Dense(33)\n",
        "])\n",
        "\n",
        "learning_rate = 0.0001\n",
        "\n",
        "mobile_model.compile(\n",
        "    optimizer=tf.keras.optimizers.RMSprop(lr=learning_rate),\n",
        "    loss=tf.keras.losses.CategoricalCrossentropy(from_logits=True),\n",
        "    metrics=['accuracy']\n",
        ")"
      ],
      "execution_count": 0,
      "outputs": []
    },
    {
      "cell_type": "code",
      "metadata": {
        "id": "1jSR16q00yUz",
        "colab_type": "code",
        "outputId": "286490cb-9171-4ecb-8a9c-abae19184d0f",
        "colab": {
          "base_uri": "https://localhost:8080/",
          "height": 1000
        }
      },
      "source": [
        "run_model(mobile_model, train, val, batch_size, epochs)"
      ],
      "execution_count": 17,
      "outputs": [
        {
          "output_type": "stream",
          "text": [
            "Epoch 1/30\n",
            "9/9 [==============================] - 7s 820ms/step - loss: 3.7394 - accuracy: 0.0505 - val_loss: 3.5336 - val_accuracy: 0.1042\n",
            "Epoch 2/30\n",
            "9/9 [==============================] - 7s 756ms/step - loss: 3.3202 - accuracy: 0.1076 - val_loss: 3.2571 - val_accuracy: 0.1875\n",
            "Epoch 3/30\n",
            "9/9 [==============================] - 7s 775ms/step - loss: 3.0771 - accuracy: 0.1733 - val_loss: 3.0896 - val_accuracy: 0.2188\n",
            "Epoch 4/30\n",
            "9/9 [==============================] - 7s 731ms/step - loss: 2.8979 - accuracy: 0.2491 - val_loss: 3.0138 - val_accuracy: 0.2188\n",
            "Epoch 5/30\n",
            "9/9 [==============================] - 7s 723ms/step - loss: 2.7084 - accuracy: 0.3213 - val_loss: 2.8122 - val_accuracy: 0.2812\n",
            "Epoch 6/30\n",
            "9/9 [==============================] - 7s 747ms/step - loss: 2.5417 - accuracy: 0.3574 - val_loss: 2.6250 - val_accuracy: 0.3958\n",
            "Epoch 7/30\n",
            "9/9 [==============================] - 7s 734ms/step - loss: 2.3561 - accuracy: 0.4404 - val_loss: 2.5134 - val_accuracy: 0.4688\n",
            "Epoch 8/30\n",
            "9/9 [==============================] - 7s 751ms/step - loss: 2.1212 - accuracy: 0.5343 - val_loss: 2.3695 - val_accuracy: 0.4583\n",
            "Epoch 9/30\n",
            "9/9 [==============================] - 7s 743ms/step - loss: 2.0660 - accuracy: 0.5523 - val_loss: 2.2950 - val_accuracy: 0.5312\n",
            "Epoch 10/30\n",
            "9/9 [==============================] - 7s 727ms/step - loss: 1.9056 - accuracy: 0.6209 - val_loss: 2.1685 - val_accuracy: 0.5521\n",
            "Epoch 11/30\n",
            "9/9 [==============================] - 7s 748ms/step - loss: 1.7864 - accuracy: 0.5848 - val_loss: 1.9955 - val_accuracy: 0.6042\n",
            "Epoch 12/30\n",
            "9/9 [==============================] - 7s 759ms/step - loss: 1.6764 - accuracy: 0.6215 - val_loss: 1.9544 - val_accuracy: 0.5833\n",
            "Epoch 13/30\n",
            "9/9 [==============================] - 7s 759ms/step - loss: 1.4891 - accuracy: 0.6787 - val_loss: 1.8349 - val_accuracy: 0.5938\n",
            "Epoch 14/30\n",
            "9/9 [==============================] - 7s 744ms/step - loss: 1.4388 - accuracy: 0.7184 - val_loss: 1.7871 - val_accuracy: 0.6042\n",
            "Epoch 15/30\n",
            "9/9 [==============================] - 7s 731ms/step - loss: 1.2687 - accuracy: 0.7220 - val_loss: 1.7288 - val_accuracy: 0.6354\n",
            "Epoch 16/30\n",
            "9/9 [==============================] - 6s 707ms/step - loss: 1.2597 - accuracy: 0.7762 - val_loss: 1.5533 - val_accuracy: 0.6771\n",
            "Epoch 17/30\n",
            "9/9 [==============================] - 7s 749ms/step - loss: 1.1068 - accuracy: 0.8412 - val_loss: 1.4485 - val_accuracy: 0.6979\n",
            "Epoch 18/30\n",
            "9/9 [==============================] - 7s 740ms/step - loss: 1.0448 - accuracy: 0.8195 - val_loss: 1.4010 - val_accuracy: 0.7604\n",
            "Epoch 19/30\n",
            "9/9 [==============================] - 7s 739ms/step - loss: 0.9592 - accuracy: 0.8412 - val_loss: 1.3954 - val_accuracy: 0.7188\n",
            "Epoch 20/30\n",
            "9/9 [==============================] - 7s 769ms/step - loss: 0.9104 - accuracy: 0.8339 - val_loss: 1.3064 - val_accuracy: 0.7500\n",
            "Epoch 21/30\n",
            "9/9 [==============================] - 7s 731ms/step - loss: 0.8625 - accuracy: 0.8556 - val_loss: 1.2611 - val_accuracy: 0.7396\n",
            "Epoch 22/30\n",
            "9/9 [==============================] - 7s 750ms/step - loss: 0.7618 - accuracy: 0.8403 - val_loss: 1.1515 - val_accuracy: 0.7812\n",
            "Epoch 23/30\n",
            "9/9 [==============================] - 7s 782ms/step - loss: 0.7049 - accuracy: 0.8736 - val_loss: 1.1977 - val_accuracy: 0.7708\n",
            "Epoch 24/30\n",
            "9/9 [==============================] - 7s 730ms/step - loss: 0.6410 - accuracy: 0.9025 - val_loss: 1.1713 - val_accuracy: 0.7500\n",
            "Epoch 25/30\n",
            "9/9 [==============================] - 6s 718ms/step - loss: 0.6674 - accuracy: 0.9170 - val_loss: 1.0447 - val_accuracy: 0.7604\n",
            "Epoch 26/30\n",
            "9/9 [==============================] - 7s 789ms/step - loss: 0.6264 - accuracy: 0.8773 - val_loss: 1.1348 - val_accuracy: 0.7604\n",
            "Epoch 27/30\n",
            "9/9 [==============================] - 7s 735ms/step - loss: 0.5376 - accuracy: 0.9170 - val_loss: 1.0275 - val_accuracy: 0.7812\n",
            "Epoch 28/30\n",
            "9/9 [==============================] - 7s 758ms/step - loss: 0.4677 - accuracy: 0.9386 - val_loss: 0.8740 - val_accuracy: 0.8229\n",
            "Epoch 29/30\n",
            "9/9 [==============================] - 7s 726ms/step - loss: 0.5195 - accuracy: 0.9025 - val_loss: 0.9621 - val_accuracy: 0.7812\n",
            "Epoch 30/30\n",
            "9/9 [==============================] - 7s 756ms/step - loss: 0.4669 - accuracy: 0.9386 - val_loss: 0.9731 - val_accuracy: 0.7708\n"
          ],
          "name": "stdout"
        },
        {
          "output_type": "execute_result",
          "data": {
            "text/plain": [
              "<tensorflow.python.keras.callbacks.History at 0x7f09ac054898>"
            ]
          },
          "metadata": {
            "tags": []
          },
          "execution_count": 17
        }
      ]
    },
    {
      "cell_type": "markdown",
      "metadata": {
        "id": "QKPmIK9TgeIU",
        "colab_type": "text"
      },
      "source": [
        "Transfer Learning with ResNet"
      ]
    },
    {
      "cell_type": "code",
      "metadata": {
        "id": "7vM0chvqLBMo",
        "colab_type": "code",
        "outputId": "3e705c91-bb76-4d18-aa1f-56d7671e847a",
        "colab": {
          "base_uri": "https://localhost:8080/",
          "height": 52
        }
      },
      "source": [
        "resnet_model = tf.keras.applications.ResNet50V2(\n",
        "    include_top=False,\n",
        "    input_shape=(IMG_SIZE, IMG_SIZE, 3),\n",
        "    weights='imagenet')"
      ],
      "execution_count": 18,
      "outputs": [
        {
          "output_type": "stream",
          "text": [
            "Downloading data from https://storage.googleapis.com/tensorflow/keras-applications/resnet/resnet50v2_weights_tf_dim_ordering_tf_kernels_notop.h5\n",
            "94674944/94668760 [==============================] - 1s 0us/step\n"
          ],
          "name": "stdout"
        }
      ]
    },
    {
      "cell_type": "code",
      "metadata": {
        "id": "r9VkCXjcS7x4",
        "colab_type": "code",
        "colab": {}
      },
      "source": [
        "resnet_model.trainable=False"
      ],
      "execution_count": 0,
      "outputs": []
    },
    {
      "cell_type": "code",
      "metadata": {
        "id": "9KKgVPebO_by",
        "colab_type": "code",
        "colab": {}
      },
      "source": [
        "res_model = tf.keras.Sequential([\n",
        "                    resnet_model,\n",
        "                    GlobalAveragePooling2D(),\n",
        "                    Dense(33)\n",
        "                    ])\n",
        "\n",
        "res_model.compile(optimizer='adam',\n",
        "              loss=tf.keras.losses.CategoricalCrossentropy(from_logits=True),\n",
        "              metrics=['accuracy']\n",
        "              )"
      ],
      "execution_count": 0,
      "outputs": []
    },
    {
      "cell_type": "code",
      "metadata": {
        "colab_type": "code",
        "outputId": "565e4779-0c8e-479e-b6a4-09b57c6fdc05",
        "id": "sRUfo5HVS5p1",
        "colab": {
          "base_uri": "https://localhost:8080/",
          "height": 1000
        }
      },
      "source": [
        "run_model(res_model, train, val, batch_size, epochs)"
      ],
      "execution_count": 21,
      "outputs": [
        {
          "output_type": "stream",
          "text": [
            "Epoch 1/30\n",
            "9/9 [==============================] - 7s 788ms/step - loss: 3.7399 - accuracy: 0.1047 - val_loss: 2.7422 - val_accuracy: 0.2708\n",
            "Epoch 2/30\n",
            "9/9 [==============================] - 7s 756ms/step - loss: 2.4584 - accuracy: 0.3357 - val_loss: 1.9237 - val_accuracy: 0.4896\n",
            "Epoch 3/30\n",
            "9/9 [==============================] - 7s 766ms/step - loss: 1.7729 - accuracy: 0.5035 - val_loss: 1.4577 - val_accuracy: 0.5833\n",
            "Epoch 4/30\n",
            "9/9 [==============================] - 7s 771ms/step - loss: 1.2039 - accuracy: 0.7401 - val_loss: 1.2197 - val_accuracy: 0.6354\n",
            "Epoch 5/30\n",
            "9/9 [==============================] - 7s 761ms/step - loss: 0.9068 - accuracy: 0.7942 - val_loss: 1.0090 - val_accuracy: 0.7292\n",
            "Epoch 6/30\n",
            "9/9 [==============================] - 7s 771ms/step - loss: 0.8373 - accuracy: 0.7942 - val_loss: 0.8858 - val_accuracy: 0.7708\n",
            "Epoch 7/30\n",
            "9/9 [==============================] - 7s 743ms/step - loss: 0.7271 - accuracy: 0.8303 - val_loss: 0.8799 - val_accuracy: 0.7188\n",
            "Epoch 8/30\n",
            "9/9 [==============================] - 7s 758ms/step - loss: 0.5484 - accuracy: 0.8628 - val_loss: 0.7926 - val_accuracy: 0.7812\n",
            "Epoch 9/30\n",
            "9/9 [==============================] - 7s 753ms/step - loss: 0.4902 - accuracy: 0.8881 - val_loss: 0.7523 - val_accuracy: 0.7917\n",
            "Epoch 10/30\n",
            "9/9 [==============================] - 7s 779ms/step - loss: 0.4888 - accuracy: 0.8917 - val_loss: 0.5909 - val_accuracy: 0.8229\n",
            "Epoch 11/30\n",
            "9/9 [==============================] - 7s 733ms/step - loss: 0.3982 - accuracy: 0.9350 - val_loss: 0.7475 - val_accuracy: 0.8229\n",
            "Epoch 12/30\n",
            "9/9 [==============================] - 7s 798ms/step - loss: 0.3894 - accuracy: 0.9170 - val_loss: 0.6333 - val_accuracy: 0.8229\n",
            "Epoch 13/30\n",
            "9/9 [==============================] - 7s 776ms/step - loss: 0.3078 - accuracy: 0.9479 - val_loss: 0.6543 - val_accuracy: 0.8333\n",
            "Epoch 14/30\n",
            "9/9 [==============================] - 7s 795ms/step - loss: 0.3018 - accuracy: 0.9350 - val_loss: 0.6561 - val_accuracy: 0.8438\n",
            "Epoch 15/30\n",
            "9/9 [==============================] - 6s 720ms/step - loss: 0.2907 - accuracy: 0.9495 - val_loss: 0.6169 - val_accuracy: 0.8333\n",
            "Epoch 16/30\n",
            "9/9 [==============================] - 7s 819ms/step - loss: 0.2613 - accuracy: 0.9495 - val_loss: 0.6595 - val_accuracy: 0.8646\n",
            "Epoch 17/30\n",
            "9/9 [==============================] - 7s 748ms/step - loss: 0.2933 - accuracy: 0.9458 - val_loss: 0.6296 - val_accuracy: 0.8542\n",
            "Epoch 18/30\n",
            "9/9 [==============================] - 7s 742ms/step - loss: 0.2751 - accuracy: 0.9567 - val_loss: 0.6194 - val_accuracy: 0.8438\n",
            "Epoch 19/30\n",
            "9/9 [==============================] - 7s 744ms/step - loss: 0.2263 - accuracy: 0.9603 - val_loss: 0.5626 - val_accuracy: 0.8542\n",
            "Epoch 20/30\n",
            "9/9 [==============================] - 7s 724ms/step - loss: 0.2271 - accuracy: 0.9603 - val_loss: 0.5173 - val_accuracy: 0.8646\n",
            "Epoch 21/30\n",
            "9/9 [==============================] - 7s 814ms/step - loss: 0.2436 - accuracy: 0.9386 - val_loss: 0.5855 - val_accuracy: 0.8646\n",
            "Epoch 22/30\n",
            "9/9 [==============================] - 7s 732ms/step - loss: 0.2329 - accuracy: 0.9531 - val_loss: 0.6007 - val_accuracy: 0.8438\n",
            "Epoch 23/30\n",
            "9/9 [==============================] - 7s 782ms/step - loss: 0.1652 - accuracy: 0.9722 - val_loss: 0.6022 - val_accuracy: 0.8438\n",
            "Epoch 24/30\n",
            "9/9 [==============================] - 7s 786ms/step - loss: 0.1651 - accuracy: 0.9639 - val_loss: 0.5912 - val_accuracy: 0.8646\n",
            "Epoch 25/30\n",
            "9/9 [==============================] - 7s 742ms/step - loss: 0.1708 - accuracy: 0.9639 - val_loss: 0.5773 - val_accuracy: 0.8542\n",
            "Epoch 26/30\n",
            "9/9 [==============================] - 7s 786ms/step - loss: 0.1737 - accuracy: 0.9675 - val_loss: 0.4277 - val_accuracy: 0.8958\n",
            "Epoch 27/30\n",
            "9/9 [==============================] - 7s 772ms/step - loss: 0.1430 - accuracy: 0.9639 - val_loss: 0.5261 - val_accuracy: 0.8854\n",
            "Epoch 28/30\n",
            "9/9 [==============================] - 6s 720ms/step - loss: 0.2038 - accuracy: 0.9531 - val_loss: 0.5871 - val_accuracy: 0.8438\n",
            "Epoch 29/30\n",
            "9/9 [==============================] - 7s 752ms/step - loss: 0.1290 - accuracy: 0.9819 - val_loss: 0.5535 - val_accuracy: 0.8438\n",
            "Epoch 30/30\n",
            "9/9 [==============================] - 7s 779ms/step - loss: 0.1831 - accuracy: 0.9567 - val_loss: 0.4983 - val_accuracy: 0.8542\n"
          ],
          "name": "stdout"
        },
        {
          "output_type": "execute_result",
          "data": {
            "text/plain": [
              "<tensorflow.python.keras.callbacks.History at 0x7f09a94745f8>"
            ]
          },
          "metadata": {
            "tags": []
          },
          "execution_count": 21
        }
      ]
    },
    {
      "cell_type": "markdown",
      "metadata": {
        "id": "gcRylFwX5P03",
        "colab_type": "text"
      },
      "source": [
        "Assessing Models"
      ]
    },
    {
      "cell_type": "code",
      "metadata": {
        "id": "BAcJ-AS8o-UV",
        "colab_type": "code",
        "outputId": "1eeb9b06-7252-4b8d-d8cd-6223c4539de7",
        "colab": {
          "base_uri": "https://localhost:8080/",
          "height": 610
        }
      },
      "source": [
        "plot_confusion_matrix(IMG_SIZE, val, valdir, model_a, prediction_data_gen)"
      ],
      "execution_count": 22,
      "outputs": [
        {
          "output_type": "display_data",
          "data": {
            "image/png": "[encoded data removed]",
            "text/plain": [
              "<Figure size 720x576 with 2 Axes>"
            ]
          },
          "metadata": {
            "tags": []
          }
        }
      ]
    },
    {
      "cell_type": "code",
      "metadata": {
        "id": "HxljIBbI4Tzh",
        "colab_type": "code",
        "outputId": "ae1735b1-b0cf-4b3a-c6ce-12a57cf10b7a",
        "colab": {
          "base_uri": "https://localhost:8080/",
          "height": 204
        }
      },
      "source": [
        "report(IMG_SIZE, val, valdir, model_a, prediction_data_gen)"
      ],
      "execution_count": 25,
      "outputs": [
        {
          "output_type": "execute_result",
          "data": {
            "text/html": [
              "<div>\n",
              "<style scoped>\n",
              "    .dataframe tbody tr th:only-of-type {\n",
              "        vertical-align: middle;\n",
              "    }\n",
              "\n",
              "    .dataframe tbody tr th {\n",
              "        vertical-align: top;\n",
              "    }\n",
              "\n",
              "    .dataframe thead th {\n",
              "        text-align: right;\n",
              "    }\n",
              "</style>\n",
              "<table border=\"1\" class=\"dataframe\">\n",
              "  <thead>\n",
              "    <tr style=\"text-align: right;\">\n",
              "      <th></th>\n",
              "      <th>0</th>\n",
              "      <th>1</th>\n",
              "      <th>2</th>\n",
              "      <th>3</th>\n",
              "      <th>4</th>\n",
              "      <th>5</th>\n",
              "      <th>6</th>\n",
              "      <th>7</th>\n",
              "      <th>8</th>\n",
              "      <th>9</th>\n",
              "      <th>10</th>\n",
              "      <th>11</th>\n",
              "      <th>12</th>\n",
              "      <th>13</th>\n",
              "      <th>14</th>\n",
              "      <th>15</th>\n",
              "      <th>16</th>\n",
              "      <th>17</th>\n",
              "      <th>18</th>\n",
              "      <th>19</th>\n",
              "      <th>20</th>\n",
              "      <th>21</th>\n",
              "      <th>22</th>\n",
              "      <th>23</th>\n",
              "      <th>24</th>\n",
              "      <th>26</th>\n",
              "      <th>27</th>\n",
              "      <th>28</th>\n",
              "      <th>29</th>\n",
              "      <th>30</th>\n",
              "      <th>31</th>\n",
              "      <th>32</th>\n",
              "      <th>accuracy</th>\n",
              "      <th>macro avg</th>\n",
              "      <th>weighted avg</th>\n",
              "    </tr>\n",
              "  </thead>\n",
              "  <tbody>\n",
              "    <tr>\n",
              "      <th>precision</th>\n",
              "      <td>0.0</td>\n",
              "      <td>0.181818</td>\n",
              "      <td>0.500000</td>\n",
              "      <td>0.0</td>\n",
              "      <td>0.2</td>\n",
              "      <td>0.0</td>\n",
              "      <td>1.000000</td>\n",
              "      <td>0.250000</td>\n",
              "      <td>0.400000</td>\n",
              "      <td>0.285714</td>\n",
              "      <td>0.25</td>\n",
              "      <td>0.60</td>\n",
              "      <td>0.75</td>\n",
              "      <td>0.600000</td>\n",
              "      <td>0.750000</td>\n",
              "      <td>1.00</td>\n",
              "      <td>0.833333</td>\n",
              "      <td>0.0</td>\n",
              "      <td>1.000000</td>\n",
              "      <td>0.0</td>\n",
              "      <td>0.60</td>\n",
              "      <td>0.0</td>\n",
              "      <td>0.0</td>\n",
              "      <td>0.0</td>\n",
              "      <td>0.6</td>\n",
              "      <td>0.0</td>\n",
              "      <td>0.307692</td>\n",
              "      <td>1.000000</td>\n",
              "      <td>0.333333</td>\n",
              "      <td>0.666667</td>\n",
              "      <td>0.400000</td>\n",
              "      <td>1.000000</td>\n",
              "      <td>0.448276</td>\n",
              "      <td>0.422142</td>\n",
              "      <td>0.494507</td>\n",
              "    </tr>\n",
              "    <tr>\n",
              "      <th>recall</th>\n",
              "      <td>0.0</td>\n",
              "      <td>0.500000</td>\n",
              "      <td>1.000000</td>\n",
              "      <td>0.0</td>\n",
              "      <td>0.2</td>\n",
              "      <td>0.0</td>\n",
              "      <td>0.333333</td>\n",
              "      <td>0.333333</td>\n",
              "      <td>0.666667</td>\n",
              "      <td>1.000000</td>\n",
              "      <td>0.25</td>\n",
              "      <td>1.00</td>\n",
              "      <td>0.50</td>\n",
              "      <td>0.500000</td>\n",
              "      <td>0.428571</td>\n",
              "      <td>0.25</td>\n",
              "      <td>0.625000</td>\n",
              "      <td>0.0</td>\n",
              "      <td>0.500000</td>\n",
              "      <td>0.0</td>\n",
              "      <td>1.00</td>\n",
              "      <td>0.0</td>\n",
              "      <td>0.0</td>\n",
              "      <td>0.0</td>\n",
              "      <td>0.6</td>\n",
              "      <td>0.0</td>\n",
              "      <td>1.000000</td>\n",
              "      <td>0.666667</td>\n",
              "      <td>0.500000</td>\n",
              "      <td>0.666667</td>\n",
              "      <td>0.500000</td>\n",
              "      <td>0.500000</td>\n",
              "      <td>0.448276</td>\n",
              "      <td>0.422507</td>\n",
              "      <td>0.448276</td>\n",
              "    </tr>\n",
              "    <tr>\n",
              "      <th>f1-score</th>\n",
              "      <td>0.0</td>\n",
              "      <td>0.266667</td>\n",
              "      <td>0.666667</td>\n",
              "      <td>0.0</td>\n",
              "      <td>0.2</td>\n",
              "      <td>0.0</td>\n",
              "      <td>0.500000</td>\n",
              "      <td>0.285714</td>\n",
              "      <td>0.500000</td>\n",
              "      <td>0.444444</td>\n",
              "      <td>0.25</td>\n",
              "      <td>0.75</td>\n",
              "      <td>0.60</td>\n",
              "      <td>0.545455</td>\n",
              "      <td>0.545455</td>\n",
              "      <td>0.40</td>\n",
              "      <td>0.714286</td>\n",
              "      <td>0.0</td>\n",
              "      <td>0.666667</td>\n",
              "      <td>0.0</td>\n",
              "      <td>0.75</td>\n",
              "      <td>0.0</td>\n",
              "      <td>0.0</td>\n",
              "      <td>0.0</td>\n",
              "      <td>0.6</td>\n",
              "      <td>0.0</td>\n",
              "      <td>0.470588</td>\n",
              "      <td>0.800000</td>\n",
              "      <td>0.400000</td>\n",
              "      <td>0.666667</td>\n",
              "      <td>0.444444</td>\n",
              "      <td>0.666667</td>\n",
              "      <td>0.448276</td>\n",
              "      <td>0.379179</td>\n",
              "      <td>0.423374</td>\n",
              "    </tr>\n",
              "    <tr>\n",
              "      <th>support</th>\n",
              "      <td>2.0</td>\n",
              "      <td>4.000000</td>\n",
              "      <td>4.000000</td>\n",
              "      <td>2.0</td>\n",
              "      <td>5.0</td>\n",
              "      <td>3.0</td>\n",
              "      <td>3.000000</td>\n",
              "      <td>3.000000</td>\n",
              "      <td>3.000000</td>\n",
              "      <td>2.000000</td>\n",
              "      <td>4.00</td>\n",
              "      <td>3.00</td>\n",
              "      <td>6.00</td>\n",
              "      <td>6.000000</td>\n",
              "      <td>7.000000</td>\n",
              "      <td>8.00</td>\n",
              "      <td>8.000000</td>\n",
              "      <td>4.0</td>\n",
              "      <td>2.000000</td>\n",
              "      <td>2.0</td>\n",
              "      <td>3.00</td>\n",
              "      <td>2.0</td>\n",
              "      <td>3.0</td>\n",
              "      <td>2.0</td>\n",
              "      <td>5.0</td>\n",
              "      <td>2.0</td>\n",
              "      <td>4.000000</td>\n",
              "      <td>3.000000</td>\n",
              "      <td>2.000000</td>\n",
              "      <td>3.000000</td>\n",
              "      <td>4.000000</td>\n",
              "      <td>2.000000</td>\n",
              "      <td>0.448276</td>\n",
              "      <td>116.000000</td>\n",
              "      <td>116.000000</td>\n",
              "    </tr>\n",
              "  </tbody>\n",
              "</table>\n",
              "</div>"
            ],
            "text/plain": [
              "             0         1         2  ...  accuracy   macro avg  weighted avg\n",
              "precision  0.0  0.181818  0.500000  ...  0.448276    0.422142      0.494507\n",
              "recall     0.0  0.500000  1.000000  ...  0.448276    0.422507      0.448276\n",
              "f1-score   0.0  0.266667  0.666667  ...  0.448276    0.379179      0.423374\n",
              "support    2.0  4.000000  4.000000  ...  0.448276  116.000000    116.000000\n",
              "\n",
              "[4 rows x 35 columns]"
            ]
          },
          "metadata": {
            "tags": []
          },
          "execution_count": 25
        }
      ]
    },
    {
      "cell_type": "code",
      "metadata": {
        "id": "v97SWVOqqelq",
        "colab_type": "code",
        "outputId": "0e94352b-e46b-45c9-9458-6cb21e7bcc69",
        "colab": {
          "base_uri": "https://localhost:8080/",
          "height": 610
        }
      },
      "source": [
        "plot_confusion_matrix(IMG_SIZE, val, valdir, mobile_model, prediction_data_gen)"
      ],
      "execution_count": 26,
      "outputs": [
        {
          "output_type": "display_data",
          "data": {
            "image/png": "[encoded data removed]",
            "text/plain": [
              "<Figure size 720x576 with 2 Axes>"
            ]
          },
          "metadata": {
            "tags": []
          }
        }
      ]
    },
    {
      "cell_type": "code",
      "metadata": {
        "id": "SK40eQ3149Ff",
        "colab_type": "code",
        "outputId": "8922545f-a7b8-466b-b695-4e2a2e2fbdfd",
        "colab": {
          "base_uri": "https://localhost:8080/",
          "height": 204
        }
      },
      "source": [
        "report(IMG_SIZE, val, valdir, mobile_model, prediction_data_gen)"
      ],
      "execution_count": 27,
      "outputs": [
        {
          "output_type": "execute_result",
          "data": {
            "text/html": [
              "<div>\n",
              "<style scoped>\n",
              "    .dataframe tbody tr th:only-of-type {\n",
              "        vertical-align: middle;\n",
              "    }\n",
              "\n",
              "    .dataframe tbody tr th {\n",
              "        vertical-align: top;\n",
              "    }\n",
              "\n",
              "    .dataframe thead th {\n",
              "        text-align: right;\n",
              "    }\n",
              "</style>\n",
              "<table border=\"1\" class=\"dataframe\">\n",
              "  <thead>\n",
              "    <tr style=\"text-align: right;\">\n",
              "      <th></th>\n",
              "      <th>0</th>\n",
              "      <th>1</th>\n",
              "      <th>2</th>\n",
              "      <th>3</th>\n",
              "      <th>4</th>\n",
              "      <th>5</th>\n",
              "      <th>6</th>\n",
              "      <th>7</th>\n",
              "      <th>8</th>\n",
              "      <th>9</th>\n",
              "      <th>10</th>\n",
              "      <th>11</th>\n",
              "      <th>12</th>\n",
              "      <th>13</th>\n",
              "      <th>14</th>\n",
              "      <th>15</th>\n",
              "      <th>16</th>\n",
              "      <th>17</th>\n",
              "      <th>18</th>\n",
              "      <th>19</th>\n",
              "      <th>20</th>\n",
              "      <th>21</th>\n",
              "      <th>22</th>\n",
              "      <th>23</th>\n",
              "      <th>24</th>\n",
              "      <th>26</th>\n",
              "      <th>27</th>\n",
              "      <th>28</th>\n",
              "      <th>29</th>\n",
              "      <th>30</th>\n",
              "      <th>31</th>\n",
              "      <th>32</th>\n",
              "      <th>accuracy</th>\n",
              "      <th>macro avg</th>\n",
              "      <th>weighted avg</th>\n",
              "    </tr>\n",
              "  </thead>\n",
              "  <tbody>\n",
              "    <tr>\n",
              "      <th>precision</th>\n",
              "      <td>0.0</td>\n",
              "      <td>0.444444</td>\n",
              "      <td>0.800000</td>\n",
              "      <td>1.0</td>\n",
              "      <td>1.000000</td>\n",
              "      <td>1.000000</td>\n",
              "      <td>1.0</td>\n",
              "      <td>0.60</td>\n",
              "      <td>1.000000</td>\n",
              "      <td>1.0</td>\n",
              "      <td>0.800000</td>\n",
              "      <td>0.750000</td>\n",
              "      <td>1.000000</td>\n",
              "      <td>0.857143</td>\n",
              "      <td>1.0</td>\n",
              "      <td>0.800000</td>\n",
              "      <td>0.800000</td>\n",
              "      <td>0.571429</td>\n",
              "      <td>1.000000</td>\n",
              "      <td>0.0</td>\n",
              "      <td>1.000000</td>\n",
              "      <td>1.0</td>\n",
              "      <td>0.0</td>\n",
              "      <td>1.0</td>\n",
              "      <td>1.000000</td>\n",
              "      <td>0.666667</td>\n",
              "      <td>1.0</td>\n",
              "      <td>0.60</td>\n",
              "      <td>1.0</td>\n",
              "      <td>1.000000</td>\n",
              "      <td>0.571429</td>\n",
              "      <td>0.0</td>\n",
              "      <td>0.784483</td>\n",
              "      <td>0.758160</td>\n",
              "      <td>0.792029</td>\n",
              "    </tr>\n",
              "    <tr>\n",
              "      <th>recall</th>\n",
              "      <td>0.0</td>\n",
              "      <td>1.000000</td>\n",
              "      <td>1.000000</td>\n",
              "      <td>1.0</td>\n",
              "      <td>0.800000</td>\n",
              "      <td>0.333333</td>\n",
              "      <td>1.0</td>\n",
              "      <td>1.00</td>\n",
              "      <td>0.333333</td>\n",
              "      <td>1.0</td>\n",
              "      <td>1.000000</td>\n",
              "      <td>1.000000</td>\n",
              "      <td>0.500000</td>\n",
              "      <td>1.000000</td>\n",
              "      <td>1.0</td>\n",
              "      <td>1.000000</td>\n",
              "      <td>1.000000</td>\n",
              "      <td>1.000000</td>\n",
              "      <td>0.500000</td>\n",
              "      <td>0.0</td>\n",
              "      <td>0.333333</td>\n",
              "      <td>1.0</td>\n",
              "      <td>0.0</td>\n",
              "      <td>1.0</td>\n",
              "      <td>0.200000</td>\n",
              "      <td>1.000000</td>\n",
              "      <td>1.0</td>\n",
              "      <td>1.00</td>\n",
              "      <td>1.0</td>\n",
              "      <td>0.666667</td>\n",
              "      <td>1.000000</td>\n",
              "      <td>0.0</td>\n",
              "      <td>0.784483</td>\n",
              "      <td>0.739583</td>\n",
              "      <td>0.784483</td>\n",
              "    </tr>\n",
              "    <tr>\n",
              "      <th>f1-score</th>\n",
              "      <td>0.0</td>\n",
              "      <td>0.615385</td>\n",
              "      <td>0.888889</td>\n",
              "      <td>1.0</td>\n",
              "      <td>0.888889</td>\n",
              "      <td>0.500000</td>\n",
              "      <td>1.0</td>\n",
              "      <td>0.75</td>\n",
              "      <td>0.500000</td>\n",
              "      <td>1.0</td>\n",
              "      <td>0.888889</td>\n",
              "      <td>0.857143</td>\n",
              "      <td>0.666667</td>\n",
              "      <td>0.923077</td>\n",
              "      <td>1.0</td>\n",
              "      <td>0.888889</td>\n",
              "      <td>0.888889</td>\n",
              "      <td>0.727273</td>\n",
              "      <td>0.666667</td>\n",
              "      <td>0.0</td>\n",
              "      <td>0.500000</td>\n",
              "      <td>1.0</td>\n",
              "      <td>0.0</td>\n",
              "      <td>1.0</td>\n",
              "      <td>0.333333</td>\n",
              "      <td>0.800000</td>\n",
              "      <td>1.0</td>\n",
              "      <td>0.75</td>\n",
              "      <td>1.0</td>\n",
              "      <td>0.800000</td>\n",
              "      <td>0.727273</td>\n",
              "      <td>0.0</td>\n",
              "      <td>0.784483</td>\n",
              "      <td>0.705039</td>\n",
              "      <td>0.742822</td>\n",
              "    </tr>\n",
              "    <tr>\n",
              "      <th>support</th>\n",
              "      <td>2.0</td>\n",
              "      <td>4.000000</td>\n",
              "      <td>4.000000</td>\n",
              "      <td>2.0</td>\n",
              "      <td>5.000000</td>\n",
              "      <td>3.000000</td>\n",
              "      <td>3.0</td>\n",
              "      <td>3.00</td>\n",
              "      <td>3.000000</td>\n",
              "      <td>2.0</td>\n",
              "      <td>4.000000</td>\n",
              "      <td>3.000000</td>\n",
              "      <td>6.000000</td>\n",
              "      <td>6.000000</td>\n",
              "      <td>7.0</td>\n",
              "      <td>8.000000</td>\n",
              "      <td>8.000000</td>\n",
              "      <td>4.000000</td>\n",
              "      <td>2.000000</td>\n",
              "      <td>2.0</td>\n",
              "      <td>3.000000</td>\n",
              "      <td>2.0</td>\n",
              "      <td>3.0</td>\n",
              "      <td>2.0</td>\n",
              "      <td>5.000000</td>\n",
              "      <td>2.000000</td>\n",
              "      <td>4.0</td>\n",
              "      <td>3.00</td>\n",
              "      <td>2.0</td>\n",
              "      <td>3.000000</td>\n",
              "      <td>4.000000</td>\n",
              "      <td>2.0</td>\n",
              "      <td>0.784483</td>\n",
              "      <td>116.000000</td>\n",
              "      <td>116.000000</td>\n",
              "    </tr>\n",
              "  </tbody>\n",
              "</table>\n",
              "</div>"
            ],
            "text/plain": [
              "             0         1         2  ...  accuracy   macro avg  weighted avg\n",
              "precision  0.0  0.444444  0.800000  ...  0.784483    0.758160      0.792029\n",
              "recall     0.0  1.000000  1.000000  ...  0.784483    0.739583      0.784483\n",
              "f1-score   0.0  0.615385  0.888889  ...  0.784483    0.705039      0.742822\n",
              "support    2.0  4.000000  4.000000  ...  0.784483  116.000000    116.000000\n",
              "\n",
              "[4 rows x 35 columns]"
            ]
          },
          "metadata": {
            "tags": []
          },
          "execution_count": 27
        }
      ]
    },
    {
      "cell_type": "code",
      "metadata": {
        "id": "q7VuNV3qrGQq",
        "colab_type": "code",
        "outputId": "87e9fb51-3351-4e1c-ae6d-cc468e69fe7b",
        "colab": {
          "base_uri": "https://localhost:8080/",
          "height": 610
        }
      },
      "source": [
        "plot_confusion_matrix(IMG_SIZE, val, valdir, res_model, prediction_data_gen)"
      ],
      "execution_count": 28,
      "outputs": [
        {
          "output_type": "display_data",
          "data": {
            "image/png": "[encoded data removed]",
            "text/plain": [
              "<Figure size 720x576 with 2 Axes>"
            ]
          },
          "metadata": {
            "tags": []
          }
        }
      ]
    },
    {
      "cell_type": "code",
      "metadata": {
        "id": "ZwcdagE04_tN",
        "colab_type": "code",
        "outputId": "fdff8f6b-8dd2-420d-ec4b-15b41d3a8ea1",
        "colab": {
          "base_uri": "https://localhost:8080/",
          "height": 204
        }
      },
      "source": [
        "report(IMG_SIZE, val, valdir, res_model, prediction_data_gen)"
      ],
      "execution_count": 29,
      "outputs": [
        {
          "output_type": "execute_result",
          "data": {
            "text/html": [
              "<div>\n",
              "<style scoped>\n",
              "    .dataframe tbody tr th:only-of-type {\n",
              "        vertical-align: middle;\n",
              "    }\n",
              "\n",
              "    .dataframe tbody tr th {\n",
              "        vertical-align: top;\n",
              "    }\n",
              "\n",
              "    .dataframe thead th {\n",
              "        text-align: right;\n",
              "    }\n",
              "</style>\n",
              "<table border=\"1\" class=\"dataframe\">\n",
              "  <thead>\n",
              "    <tr style=\"text-align: right;\">\n",
              "      <th></th>\n",
              "      <th>0</th>\n",
              "      <th>1</th>\n",
              "      <th>2</th>\n",
              "      <th>3</th>\n",
              "      <th>4</th>\n",
              "      <th>5</th>\n",
              "      <th>6</th>\n",
              "      <th>7</th>\n",
              "      <th>8</th>\n",
              "      <th>9</th>\n",
              "      <th>10</th>\n",
              "      <th>11</th>\n",
              "      <th>12</th>\n",
              "      <th>13</th>\n",
              "      <th>14</th>\n",
              "      <th>15</th>\n",
              "      <th>16</th>\n",
              "      <th>17</th>\n",
              "      <th>18</th>\n",
              "      <th>19</th>\n",
              "      <th>20</th>\n",
              "      <th>21</th>\n",
              "      <th>22</th>\n",
              "      <th>23</th>\n",
              "      <th>24</th>\n",
              "      <th>25</th>\n",
              "      <th>26</th>\n",
              "      <th>27</th>\n",
              "      <th>28</th>\n",
              "      <th>29</th>\n",
              "      <th>30</th>\n",
              "      <th>31</th>\n",
              "      <th>32</th>\n",
              "      <th>accuracy</th>\n",
              "      <th>macro avg</th>\n",
              "      <th>weighted avg</th>\n",
              "    </tr>\n",
              "  </thead>\n",
              "  <tbody>\n",
              "    <tr>\n",
              "      <th>precision</th>\n",
              "      <td>0.666667</td>\n",
              "      <td>0.600000</td>\n",
              "      <td>0.50</td>\n",
              "      <td>1.0</td>\n",
              "      <td>1.000000</td>\n",
              "      <td>1.0</td>\n",
              "      <td>1.000000</td>\n",
              "      <td>1.0</td>\n",
              "      <td>1.0</td>\n",
              "      <td>1.0</td>\n",
              "      <td>1.0</td>\n",
              "      <td>1.0</td>\n",
              "      <td>1.000000</td>\n",
              "      <td>1.0</td>\n",
              "      <td>1.0</td>\n",
              "      <td>0.888889</td>\n",
              "      <td>0.857143</td>\n",
              "      <td>0.75</td>\n",
              "      <td>1.0</td>\n",
              "      <td>0.0</td>\n",
              "      <td>0.750000</td>\n",
              "      <td>1.0</td>\n",
              "      <td>0.500000</td>\n",
              "      <td>1.0</td>\n",
              "      <td>1.000000</td>\n",
              "      <td>0.0</td>\n",
              "      <td>0.666667</td>\n",
              "      <td>1.000000</td>\n",
              "      <td>0.750000</td>\n",
              "      <td>1.0</td>\n",
              "      <td>0.666667</td>\n",
              "      <td>0.800000</td>\n",
              "      <td>0.666667</td>\n",
              "      <td>0.853448</td>\n",
              "      <td>0.820082</td>\n",
              "      <td>0.866968</td>\n",
              "    </tr>\n",
              "    <tr>\n",
              "      <th>recall</th>\n",
              "      <td>1.000000</td>\n",
              "      <td>0.750000</td>\n",
              "      <td>0.75</td>\n",
              "      <td>1.0</td>\n",
              "      <td>0.800000</td>\n",
              "      <td>1.0</td>\n",
              "      <td>0.666667</td>\n",
              "      <td>1.0</td>\n",
              "      <td>1.0</td>\n",
              "      <td>1.0</td>\n",
              "      <td>1.0</td>\n",
              "      <td>1.0</td>\n",
              "      <td>0.500000</td>\n",
              "      <td>1.0</td>\n",
              "      <td>1.0</td>\n",
              "      <td>1.000000</td>\n",
              "      <td>0.750000</td>\n",
              "      <td>0.75</td>\n",
              "      <td>1.0</td>\n",
              "      <td>0.0</td>\n",
              "      <td>1.000000</td>\n",
              "      <td>1.0</td>\n",
              "      <td>0.333333</td>\n",
              "      <td>1.0</td>\n",
              "      <td>0.800000</td>\n",
              "      <td>0.0</td>\n",
              "      <td>1.000000</td>\n",
              "      <td>0.750000</td>\n",
              "      <td>1.000000</td>\n",
              "      <td>1.0</td>\n",
              "      <td>0.666667</td>\n",
              "      <td>1.000000</td>\n",
              "      <td>1.000000</td>\n",
              "      <td>0.853448</td>\n",
              "      <td>0.833838</td>\n",
              "      <td>0.853448</td>\n",
              "    </tr>\n",
              "    <tr>\n",
              "      <th>f1-score</th>\n",
              "      <td>0.800000</td>\n",
              "      <td>0.666667</td>\n",
              "      <td>0.60</td>\n",
              "      <td>1.0</td>\n",
              "      <td>0.888889</td>\n",
              "      <td>1.0</td>\n",
              "      <td>0.800000</td>\n",
              "      <td>1.0</td>\n",
              "      <td>1.0</td>\n",
              "      <td>1.0</td>\n",
              "      <td>1.0</td>\n",
              "      <td>1.0</td>\n",
              "      <td>0.666667</td>\n",
              "      <td>1.0</td>\n",
              "      <td>1.0</td>\n",
              "      <td>0.941176</td>\n",
              "      <td>0.800000</td>\n",
              "      <td>0.75</td>\n",
              "      <td>1.0</td>\n",
              "      <td>0.0</td>\n",
              "      <td>0.857143</td>\n",
              "      <td>1.0</td>\n",
              "      <td>0.400000</td>\n",
              "      <td>1.0</td>\n",
              "      <td>0.888889</td>\n",
              "      <td>0.0</td>\n",
              "      <td>0.800000</td>\n",
              "      <td>0.857143</td>\n",
              "      <td>0.857143</td>\n",
              "      <td>1.0</td>\n",
              "      <td>0.666667</td>\n",
              "      <td>0.888889</td>\n",
              "      <td>0.800000</td>\n",
              "      <td>0.853448</td>\n",
              "      <td>0.816039</td>\n",
              "      <td>0.848379</td>\n",
              "    </tr>\n",
              "    <tr>\n",
              "      <th>support</th>\n",
              "      <td>2.000000</td>\n",
              "      <td>4.000000</td>\n",
              "      <td>4.00</td>\n",
              "      <td>2.0</td>\n",
              "      <td>5.000000</td>\n",
              "      <td>3.0</td>\n",
              "      <td>3.000000</td>\n",
              "      <td>3.0</td>\n",
              "      <td>3.0</td>\n",
              "      <td>2.0</td>\n",
              "      <td>4.0</td>\n",
              "      <td>3.0</td>\n",
              "      <td>6.000000</td>\n",
              "      <td>6.0</td>\n",
              "      <td>7.0</td>\n",
              "      <td>8.000000</td>\n",
              "      <td>8.000000</td>\n",
              "      <td>4.00</td>\n",
              "      <td>2.0</td>\n",
              "      <td>2.0</td>\n",
              "      <td>3.000000</td>\n",
              "      <td>2.0</td>\n",
              "      <td>3.000000</td>\n",
              "      <td>2.0</td>\n",
              "      <td>5.000000</td>\n",
              "      <td>0.0</td>\n",
              "      <td>2.000000</td>\n",
              "      <td>4.000000</td>\n",
              "      <td>3.000000</td>\n",
              "      <td>2.0</td>\n",
              "      <td>3.000000</td>\n",
              "      <td>4.000000</td>\n",
              "      <td>2.000000</td>\n",
              "      <td>0.853448</td>\n",
              "      <td>116.000000</td>\n",
              "      <td>116.000000</td>\n",
              "    </tr>\n",
              "  </tbody>\n",
              "</table>\n",
              "</div>"
            ],
            "text/plain": [
              "                  0         1     2  ...  accuracy   macro avg  weighted avg\n",
              "precision  0.666667  0.600000  0.50  ...  0.853448    0.820082      0.866968\n",
              "recall     1.000000  0.750000  0.75  ...  0.853448    0.833838      0.853448\n",
              "f1-score   0.800000  0.666667  0.60  ...  0.853448    0.816039      0.848379\n",
              "support    2.000000  4.000000  4.00  ...  0.853448  116.000000    116.000000\n",
              "\n",
              "[4 rows x 36 columns]"
            ]
          },
          "metadata": {
            "tags": []
          },
          "execution_count": 29
        }
      ]
    },
    {
      "cell_type": "markdown",
      "metadata": {
        "id": "iPBszxprfI2l",
        "colab_type": "text"
      },
      "source": [
        "Predictions"
      ]
    },
    {
      "cell_type": "code",
      "metadata": {
        "id": "FKYYoIhmHlZ4",
        "colab_type": "code",
        "outputId": "bc0a73c4-f21b-4a20-9eec-cdb12e3a6600",
        "colab": {
          "base_uri": "https://localhost:8080/",
          "height": 70
        }
      },
      "source": [
        "location_1 = show_predictions(model_a, preddir, IMG_SIZE, train, val)\n",
        "location_2 = show_predictions(mobile_model, preddir, IMG_SIZE, train, val)\n",
        "location_3 = show_predictions(res_model, preddir, IMG_SIZE, train, val)"
      ],
      "execution_count": 30,
      "outputs": [
        {
          "output_type": "stream",
          "text": [
            "Found 1 images belonging to 1 classes.\n",
            "Found 1 images belonging to 1 classes.\n",
            "Found 1 images belonging to 1 classes.\n"
          ],
          "name": "stdout"
        }
      ]
    },
    {
      "cell_type": "markdown",
      "metadata": {
        "id": "Ql1loa90fKaM",
        "colab_type": "text"
      },
      "source": [
        "Getting lat/long for image"
      ]
    },
    {
      "cell_type": "code",
      "metadata": {
        "id": "9LgoLeLvC67g",
        "colab_type": "code",
        "outputId": "c5072522-aa2c-4919-8aae-c8e846b8e7e7",
        "colab": {
          "base_uri": "https://localhost:8080/",
          "height": 34
        }
      },
      "source": [
        "find_my_photo(location_1, pd.read_csv(r'/content/drive/My Drive/key.csv')).replace(' ', '')"
      ],
      "execution_count": 36,
      "outputs": [
        {
          "output_type": "execute_result",
          "data": {
            "text/plain": [
              "'35.129059,-90.075649'"
            ]
          },
          "metadata": {
            "tags": []
          },
          "execution_count": 36
        }
      ]
    },
    {
      "cell_type": "code",
      "metadata": {
        "id": "_0e1slDFKd7z",
        "colab_type": "code",
        "outputId": "f85ab22b-d7fa-4a37-e461-a3dbc4e43b8e",
        "colab": {
          "base_uri": "https://localhost:8080/",
          "height": 34
        }
      },
      "source": [
        "find_my_photo(location_2, pd.read_csv(r'/content/drive/My Drive/key.csv')).replace(' ', '')"
      ],
      "execution_count": 37,
      "outputs": [
        {
          "output_type": "execute_result",
          "data": {
            "text/plain": [
              "'35.132173,-90.066536'"
            ]
          },
          "metadata": {
            "tags": []
          },
          "execution_count": 37
        }
      ]
    },
    {
      "cell_type": "code",
      "metadata": {
        "id": "dsAFBHivKfP9",
        "colab_type": "code",
        "outputId": "6f58d3fb-dc18-4960-a3c5-112b4990142c",
        "colab": {
          "base_uri": "https://localhost:8080/",
          "height": 34
        }
      },
      "source": [
        "find_my_photo(location_3, pd.read_csv(r'/content/drive/My Drive/key.csv')).replace(' ', '')"
      ],
      "execution_count": 38,
      "outputs": [
        {
          "output_type": "execute_result",
          "data": {
            "text/plain": [
              "'35.145345,-90.058976'"
            ]
          },
          "metadata": {
            "tags": []
          },
          "execution_count": 38
        }
      ]
    },
    {
      "cell_type": "markdown",
      "metadata": {
        "id": "bUoLZwNGJ_Gv",
        "colab_type": "text"
      },
      "source": [
        "All found the right image, since mobile_model had best accuracy, I will use that result for the image retrieval"
      ]
    },
    {
      "cell_type": "code",
      "metadata": {
        "id": "J7cdQa3fAuCF",
        "colab_type": "code",
        "colab": {}
      },
      "source": [
        "street_view = find_my_photo(location_2, pd.read_csv(r'/content/drive/My Drive/key.csv')).replace(' ', '')"
      ],
      "execution_count": 0,
      "outputs": []
    },
    {
      "cell_type": "code",
      "metadata": {
        "id": "t0ch8NS7eh9N",
        "colab_type": "code",
        "colab": {
          "base_uri": "https://localhost:8080/",
          "height": 34
        },
        "outputId": "e8461819-736f-481b-e903-af203f4cacc8"
      },
      "source": [
        "street_view"
      ],
      "execution_count": 35,
      "outputs": [
        {
          "output_type": "execute_result",
          "data": {
            "text/plain": [
              "'35.132173,-90.066536'"
            ]
          },
          "metadata": {
            "tags": []
          },
          "execution_count": 35
        }
      ]
    },
    {
      "cell_type": "code",
      "metadata": {
        "id": "5L2zYT9DejgP",
        "colab_type": "code",
        "colab": {}
      },
      "source": [
        ""
      ],
      "execution_count": 0,
      "outputs": []
    }
  ]
}